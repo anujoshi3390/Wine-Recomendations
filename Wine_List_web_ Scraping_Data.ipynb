{
  "nbformat": 4,
  "nbformat_minor": 0,
  "metadata": {
    "colab": {
      "provenance": [],
      "authorship_tag": "ABX9TyPTaaYtSqbNm/GV3NB0BM5p",
      "include_colab_link": true
    },
    "kernelspec": {
      "name": "python3",
      "display_name": "Python 3"
    },
    "language_info": {
      "name": "python"
    }
  },
  "cells": [
    {
      "cell_type": "markdown",
      "metadata": {
        "id": "view-in-github",
        "colab_type": "text"
      },
      "source": [
        "<a href=\"https://colab.research.google.com/github/anujoshi3390/Wine-Recomendations/blob/main/Wine_List_web_%20Scraping_Data.ipynb\" target=\"_parent\"><img src=\"https://colab.research.google.com/assets/colab-badge.svg\" alt=\"Open In Colab\"/></a>"
      ]
    },
    {
      "cell_type": "markdown",
      "source": [],
      "metadata": {
        "id": "zzZrdvated8_"
      }
    },
    {
      "cell_type": "markdown",
      "source": [
        "Data Collection"
      ],
      "metadata": {
        "id": "hDpYqghmeh6M"
      }
    },
    {
      "cell_type": "code",
      "execution_count": 2,
      "metadata": {
        "colab": {
          "base_uri": "https://localhost:8080/",
          "height": 378
        },
        "id": "IXqFuIueeCEa",
        "outputId": "e7a5d708-69a1-4646-f389-69625ad57752"
      },
      "outputs": [
        {
          "output_type": "error",
          "ename": "ModuleNotFoundError",
          "evalue": "No module named 'selenium'",
          "traceback": [
            "\u001b[0;31m---------------------------------------------------------------------------\u001b[0m",
            "\u001b[0;31mModuleNotFoundError\u001b[0m                       Traceback (most recent call last)",
            "\u001b[0;32m<ipython-input-2-772bdcb700d2>\u001b[0m in \u001b[0;36m<cell line: 0>\u001b[0;34m()\u001b[0m\n\u001b[1;32m      2\u001b[0m \u001b[0;32mimport\u001b[0m \u001b[0mtime\u001b[0m\u001b[0;34m\u001b[0m\u001b[0;34m\u001b[0m\u001b[0m\n\u001b[1;32m      3\u001b[0m \u001b[0;32mimport\u001b[0m \u001b[0mrequests\u001b[0m\u001b[0;34m\u001b[0m\u001b[0;34m\u001b[0m\u001b[0m\n\u001b[0;32m----> 4\u001b[0;31m \u001b[0;32mfrom\u001b[0m \u001b[0mselenium\u001b[0m \u001b[0;32mimport\u001b[0m \u001b[0mwebdriver\u001b[0m\u001b[0;34m\u001b[0m\u001b[0;34m\u001b[0m\u001b[0m\n\u001b[0m\u001b[1;32m      5\u001b[0m \u001b[0;32mimport\u001b[0m \u001b[0mpickle\u001b[0m\u001b[0;34m\u001b[0m\u001b[0;34m\u001b[0m\u001b[0m\n\u001b[1;32m      6\u001b[0m \u001b[0;32mimport\u001b[0m \u001b[0mrandom\u001b[0m\u001b[0;34m\u001b[0m\u001b[0;34m\u001b[0m\u001b[0m\n",
            "\u001b[0;31mModuleNotFoundError\u001b[0m: No module named 'selenium'",
            "",
            "\u001b[0;31m---------------------------------------------------------------------------\u001b[0;32m\nNOTE: If your import is failing due to a missing package, you can\nmanually install dependencies using either !pip or !apt.\n\nTo view examples of installing some common dependencies, click the\n\"Open Examples\" button below.\n\u001b[0;31m---------------------------------------------------------------------------\u001b[0m\n"
          ],
          "errorDetails": {
            "actions": [
              {
                "action": "open_url",
                "actionText": "Open Examples",
                "url": "/notebooks/snippets/importing_libraries.ipynb"
              }
            ]
          }
        }
      ],
      "source": [
        "#importing libraries\n",
        "import time\n",
        "import requests\n",
        "from selenium import webdriver\n",
        "import pickle\n",
        "import random\n",
        "import re\n",
        "import numpy as np\n",
        "import pandas as pd"
      ]
    },
    {
      "cell_type": "code",
      "source": [
        "%%capture\n",
        "from tqdm.notebook import tqdm"
      ],
      "metadata": {
        "id": "CxOIg8K6eZiK"
      },
      "execution_count": 3,
      "outputs": []
    },
    {
      "cell_type": "markdown",
      "source": [],
      "metadata": {
        "id": "ZxTj1PQBec87"
      }
    },
    {
      "cell_type": "markdown",
      "source": [
        "Getting Wine Links\n",
        "The urls below take you to the pages of each of the 6 types of wines: red, white, rose, sparkling, dessert, and fortified. The average price was not touched, and is set by default between 10-40 USD. The 'any rating' button, listed below the wine tabs on the left was clicked on for each of these. Because of the site's frequent updates, this code will not reproduce the same results every time! Each 'page' or scroll to the bottom, will get 25 wines. With the target being 1800 wines, the 32-range scroll meant for each link down below is to account for the duplicate wines that may appear as the page scrolls further down."
      ],
      "metadata": {
        "id": "BB-xeLUOepCo"
      }
    },
    {
      "cell_type": "code",
      "source": [
        "#These are the urls I will use to find wines.\n",
        "urls = ['https://www.vivino.com/explore?e=eJzLLbI1VMvNzLM1NFDLTaywNTFQS660DQ1WSwYSLmoFQNn0NNuyxKLM1JLEHLX8JFu1fFu18pLoWKBMMVACAJUrFHI%3D',#Red\n",
        "       'https://www.vivino.com/explore?e=eJzLLbI1VMvNzLM1NFDLTaywNTFQS660DQ1WSwYSLmoFQNn0NNuyxKLM1JLEHLX8JFu1fFu18pLoWFsjtWKgBACVMRRz',#White\n",
        "       'https://www.vivino.com/explore?e=eJzLLbI1VMvNzLM1NFDLTaywNTFQS660DQ1WSwYSLmoFQNn0NNuyxKLM1JLEHLX8JFu1fFu18pLoWFtjtWKgBACVNxR0',#Sparkling\n",
        "       'https://www.vivino.com/explore?e=eJzLLbI1VMvNzLM1NFDLTaywNTFQS660DQ1WSwYSLmoFQNn0NNuyxKLM1JLEHLX8JFu1fFu18pLoWFsTtWKgBACVPRR1',#Rosé\n",
        "       'https://www.vivino.com/explore?e=eJzLLbI1VMvNzLM1NFDLTaywNTFQS660DQ1WSwYSLmoFQNn0NNuyxKLM1JLEHLX8JFu1fFu18pLoWFtztWKgBACVTxR4',#Dessert\n",
        "       'https://www.vivino.com/explore?e=eJzLLbI1VMvNzLM1NFDLTaywNTFQS660DQ1WSwYSLmoFQNn0NNuyxKLM1JLEHLX8JFu1fFu18pLoWFsjE7VioAwAqS8Upw%3D%3D']#Fortified\n",
        "wine_links = set() #this ensures there is no repeats in links\n",
        "\n",
        "driver = webdriver.Chrome()\n",
        "\n",
        "amount = 300\n",
        "for link in tqdm(urls):\n",
        "    driver.get(link)\n",
        "    driver.maximize_window()\n",
        "\n",
        "    #this will continue scrolling the page to get more wines\n",
        "    for i in range(32):\n",
        "        driver.execute_script(\"window.scrollTo(0, document.body.scrollHeight);\")\n",
        "        time.sleep(random.choice([x/10 for x in range(5,10)]))\n",
        "\n",
        "\n",
        "    #this will get the hyperlinks to all of the wines\n",
        "    wines = driver.find_elements_by_css_selector('a.anchor__anchor--2QZvA')[:-5] #-5 because the last 5 links go to their social media pages\n",
        "\n",
        "\n",
        "    for index, wine in enumerate(wines):\n",
        "        #this ensures there will be 1800 wines\n",
        "        if len(wine_links) == amount:\n",
        "            break\n",
        "        else:\n",
        "            wine_links.add(wines[index].get_attribute('href'))\n",
        "    amount+=300"
      ],
      "metadata": {
        "colab": {
          "base_uri": "https://localhost:8080/",
          "height": 207
        },
        "id": "Fo0vVeFTeq6f",
        "outputId": "f6462d07-94ad-40fa-f78d-b60b7f7c31b0"
      },
      "execution_count": 4,
      "outputs": [
        {
          "output_type": "error",
          "ename": "NameError",
          "evalue": "name 'webdriver' is not defined",
          "traceback": [
            "\u001b[0;31m---------------------------------------------------------------------------\u001b[0m",
            "\u001b[0;31mNameError\u001b[0m                                 Traceback (most recent call last)",
            "\u001b[0;32m<ipython-input-4-714b35c1e14a>\u001b[0m in \u001b[0;36m<cell line: 0>\u001b[0;34m()\u001b[0m\n\u001b[1;32m      8\u001b[0m \u001b[0mwine_links\u001b[0m \u001b[0;34m=\u001b[0m \u001b[0mset\u001b[0m\u001b[0;34m(\u001b[0m\u001b[0;34m)\u001b[0m \u001b[0;31m#this ensures there is no repeats in links\u001b[0m\u001b[0;34m\u001b[0m\u001b[0;34m\u001b[0m\u001b[0m\n\u001b[1;32m      9\u001b[0m \u001b[0;34m\u001b[0m\u001b[0m\n\u001b[0;32m---> 10\u001b[0;31m \u001b[0mdriver\u001b[0m \u001b[0;34m=\u001b[0m \u001b[0mwebdriver\u001b[0m\u001b[0;34m.\u001b[0m\u001b[0mChrome\u001b[0m\u001b[0;34m(\u001b[0m\u001b[0;34m)\u001b[0m\u001b[0;34m\u001b[0m\u001b[0;34m\u001b[0m\u001b[0m\n\u001b[0m\u001b[1;32m     11\u001b[0m \u001b[0;34m\u001b[0m\u001b[0m\n\u001b[1;32m     12\u001b[0m \u001b[0mamount\u001b[0m \u001b[0;34m=\u001b[0m \u001b[0;36m300\u001b[0m\u001b[0;34m\u001b[0m\u001b[0;34m\u001b[0m\u001b[0m\n",
            "\u001b[0;31mNameError\u001b[0m: name 'webdriver' is not defined"
          ]
        }
      ]
    },
    {
      "cell_type": "code",
      "source": [
        "wine_links = list(wine_links)"
      ],
      "metadata": {
        "id": "voaaZAULexBx"
      },
      "execution_count": 5,
      "outputs": []
    },
    {
      "cell_type": "code",
      "source": [
        "#there should be 1800\n",
        "len(wine_links)"
      ],
      "metadata": {
        "colab": {
          "base_uri": "https://localhost:8080/"
        },
        "id": "80loRsKIexsf",
        "outputId": "37a003e0-994e-4cc4-d2e9-5dc2c8ec7235"
      },
      "execution_count": 6,
      "outputs": [
        {
          "output_type": "execute_result",
          "data": {
            "text/plain": [
              "0"
            ]
          },
          "metadata": {},
          "execution_count": 6
        }
      ]
    },
    {
      "cell_type": "code",
      "source": [
        "driver.quit()"
      ],
      "metadata": {
        "colab": {
          "base_uri": "https://localhost:8080/",
          "height": 139
        },
        "id": "K33cp0Jre1Na",
        "outputId": "86d5e1a8-7634-4671-9bc9-d139d85375bd"
      },
      "execution_count": 7,
      "outputs": [
        {
          "output_type": "error",
          "ename": "NameError",
          "evalue": "name 'driver' is not defined",
          "traceback": [
            "\u001b[0;31m---------------------------------------------------------------------------\u001b[0m",
            "\u001b[0;31mNameError\u001b[0m                                 Traceback (most recent call last)",
            "\u001b[0;32m<ipython-input-7-edc6c27c0986>\u001b[0m in \u001b[0;36m<cell line: 0>\u001b[0;34m()\u001b[0m\n\u001b[0;32m----> 1\u001b[0;31m \u001b[0mdriver\u001b[0m\u001b[0;34m.\u001b[0m\u001b[0mquit\u001b[0m\u001b[0;34m(\u001b[0m\u001b[0;34m)\u001b[0m\u001b[0;34m\u001b[0m\u001b[0;34m\u001b[0m\u001b[0m\n\u001b[0m",
            "\u001b[0;31mNameError\u001b[0m: name 'driver' is not defined"
          ]
        }
      ]
    },
    {
      "cell_type": "markdown",
      "source": [],
      "metadata": {
        "id": "iqpJVpvQe7Hk"
      }
    },
    {
      "cell_type": "code",
      "source": [
        "Getting Content Information\n",
        "Now that we have the hyperlinks to the wines, the code below will slowly scroll down the pages of each of these links to extract the data shown in the lists below.\n",
        "\n",
        "** This code will take approximately 1.5/2 hours to run."
      ],
      "metadata": {
        "colab": {
          "base_uri": "https://localhost:8080/",
          "height": 105
        },
        "id": "Z90mWQpBe3r6",
        "outputId": "836289ed-2a46-4871-9912-7591bb4752ff"
      },
      "execution_count": 8,
      "outputs": [
        {
          "output_type": "error",
          "ename": "SyntaxError",
          "evalue": "invalid syntax (<ipython-input-8-919213204585>, line 1)",
          "traceback": [
            "\u001b[0;36m  File \u001b[0;32m\"<ipython-input-8-919213204585>\"\u001b[0;36m, line \u001b[0;32m1\u001b[0m\n\u001b[0;31m    Getting Content Information\u001b[0m\n\u001b[0m            ^\u001b[0m\n\u001b[0;31mSyntaxError\u001b[0m\u001b[0;31m:\u001b[0m invalid syntax\n"
          ]
        }
      ]
    },
    {
      "cell_type": "code",
      "source": [
        "driver = webdriver.Chrome()"
      ],
      "metadata": {
        "id": "IKlx21Ase_vs"
      },
      "execution_count": null,
      "outputs": []
    },
    {
      "cell_type": "code",
      "source": [
        "#lists for data\n",
        "winery = []            #name of the winery\n",
        "wine_name = []         #name of the wine\n",
        "wine_type = []         #type of the wine\n",
        "wine_country = []      #country that produced the wine\n",
        "average_rating = []    #average rating of the wine on Vivino.com\n",
        "num_of_ratings = []    #average number of ratings on Vivino.com\n",
        "wine_price = []        #price of the wine on Vivino.com\n",
        "review1 = []           #review 1 of wine\n",
        "review2 = []           #review 2 of wine\n",
        "review3 = []           #review 3 of wine\n",
        "grapes = []            #the grapes utilized to make the wine\n",
        "alcohol_content = []   #the alcohol content of the wine"
      ],
      "metadata": {
        "id": "EyID_CERfCMO"
      },
      "execution_count": null,
      "outputs": []
    },
    {
      "cell_type": "code",
      "source": [
        "for wine in tqdm(wine_links):\n",
        "    driver.get(wine)\n",
        "\n",
        "\n",
        "    #this will capture the information for the following lists below:\n",
        "    content = driver.find_elements_by_class_name('container')[0].text\n",
        "\n",
        "\n",
        "    winery.append(content.split('\\n')[0] if content.split('\\n')[0] else np.nan)\n",
        "    wine_name.append(content.split('\\n')[1])\n",
        "    wine_type.append(content.split('\\n')[2])\n",
        "    country = re.findall('\\n · \\n(\\w+\\s?\\w+)\\n', content)\n",
        "    wine_country.append(country[0] if country else np.nan)\n",
        "    average_rating.append(re.findall('(\\d+\\.\\d+)\\\\n\\d+\\sratings', content)[0])\n",
        "    num_of_ratings.append(re.findall('\\d+\\.\\d+\\\\n(\\d+)\\sratings', content)[0])\n",
        "\n",
        "    price = re.findall('\\$(\\d+\\.?\\d+)\\\\nPrice is', content)\n",
        "    wine_price.append(price[0] if price else np.nan)\n",
        "\n",
        "\n",
        "    num = 200\n",
        "    #this will scroll down the page slow enough to capture all of the reviews\n",
        "    while num < 10000:\n",
        "        try:\n",
        "            driver.find_element_by_class_name('communityReviewCard__reviewCard--2ITkC')\n",
        "            review = driver.find_elements_by_class_name('communityReviewCard__reviewCard--2ITkC')\n",
        "            review1.append(review[0].text.split('\\n')[1])\n",
        "            review2.append(review[1].text.split('\\n')[1])\n",
        "            review3.append(review[2].text.split('\\n')[1])\n",
        "            time.sleep(random.choice([x/10 for x in range(10,20)]))\n",
        "            break\n",
        "\n",
        "        except:\n",
        "            driver.execute_script(f\"window.scrollTo(0, {num});\")\n",
        "            num += 200\n",
        "\n",
        "\n",
        "\n",
        "    num = 200\n",
        "    #this will scroll down the page slow enough to capture all of grape and alcohol content\n",
        "    while num < 10000:\n",
        "        try:\n",
        "            driver.find_element_by_class_name('wineFacts__wineFacts--2Ih8B')\n",
        "            facts = driver.find_element_by_class_name('wineFacts__wineFacts--2Ih8B').text\n",
        "            grape = re.findall('Grapes\\\\n(.+)\\\\nRegion', facts)\n",
        "            grapes.append(','.join(grape) if grape else np.nan)\n",
        "            alcohol = re.findall('Alcohol content\\\\n(\\d+.?\\d+)\\%\\\\n', facts)\n",
        "            alcohol_content.append(alcohol[0] if alcohol else np.nan)\n",
        "            time.sleep(random.choice([x/10 for x in range(10,20)]))\n",
        "            break\n",
        "\n",
        "        except:\n",
        "            driver.execute_script(f\"window.scrollTo(0, {num});\")\n",
        "            num += 200\n",
        ""
      ],
      "metadata": {
        "id": "-JA3U9j4fCXc"
      },
      "execution_count": null,
      "outputs": []
    },
    {
      "cell_type": "code",
      "source": [
        "reviews = [] #combined reviews\n",
        "for i, n in enumerate(review1):\n",
        "    reviews.append(review1[i] + ',' + review2[i] + ',' + review3[i])\n"
      ],
      "metadata": {
        "id": "rPmdDsZrfCiz"
      },
      "execution_count": null,
      "outputs": []
    },
    {
      "cell_type": "code",
      "source": [
        "driver.quit()"
      ],
      "metadata": {
        "id": "_Kc8I9XofKym"
      },
      "execution_count": null,
      "outputs": []
    },
    {
      "cell_type": "code",
      "source": [
        "#checking the length of the review list\n",
        "len(reviews)"
      ],
      "metadata": {
        "id": "u0ymRqS9fK4-"
      },
      "execution_count": null,
      "outputs": []
    },
    {
      "cell_type": "code",
      "source": [
        "\n",
        "#checking the length of the winery list\n",
        "len(winery)"
      ],
      "metadata": {
        "id": "0QB5TccRfK94"
      },
      "execution_count": null,
      "outputs": []
    },
    {
      "cell_type": "code",
      "source": [
        "#putting all of this into a dataframe\n",
        "wine_df = pd.DataFrame({'winery': winery, 'wine_name': wine_name,\n",
        "                       'wine_type': wine_type, 'wine_country': wine_country,\n",
        "                       'average_rating': average_rating, 'num_of_ratings': num_of_ratings,\n",
        "                       'wine_price': wine_price, 'grapes': grapes, 'alcohol_content': alcohol_content, 'reviews': reviews})\n"
      ],
      "metadata": {
        "id": "l2pOih5wfLAx"
      },
      "execution_count": null,
      "outputs": []
    },
    {
      "cell_type": "code",
      "source": [
        "wine_df.to_csv('wine_info.csv', index = False )"
      ],
      "metadata": {
        "colab": {
          "base_uri": "https://localhost:8080/",
          "height": 139
        },
        "id": "QQfX_c1cfLDm",
        "outputId": "d00c5f1a-54b1-4ab0-b596-9901baddda96"
      },
      "execution_count": 9,
      "outputs": [
        {
          "output_type": "error",
          "ename": "NameError",
          "evalue": "name 'wine_df' is not defined",
          "traceback": [
            "\u001b[0;31m---------------------------------------------------------------------------\u001b[0m",
            "\u001b[0;31mNameError\u001b[0m                                 Traceback (most recent call last)",
            "\u001b[0;32m<ipython-input-9-eb974002e4db>\u001b[0m in \u001b[0;36m<cell line: 0>\u001b[0;34m()\u001b[0m\n\u001b[0;32m----> 1\u001b[0;31m \u001b[0mwine_df\u001b[0m\u001b[0;34m.\u001b[0m\u001b[0mto_csv\u001b[0m\u001b[0;34m(\u001b[0m\u001b[0;34m'wine_info.csv'\u001b[0m\u001b[0;34m,\u001b[0m \u001b[0mindex\u001b[0m \u001b[0;34m=\u001b[0m \u001b[0;32mFalse\u001b[0m \u001b[0;34m)\u001b[0m\u001b[0;34m\u001b[0m\u001b[0;34m\u001b[0m\u001b[0m\n\u001b[0m",
            "\u001b[0;31mNameError\u001b[0m: name 'wine_df' is not defined"
          ]
        }
      ]
    },
    {
      "cell_type": "code",
      "source": [],
      "metadata": {
        "id": "c_-nuOZmfLGP"
      },
      "execution_count": null,
      "outputs": []
    }
  ]
}