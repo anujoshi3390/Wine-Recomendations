{
  "nbformat": 4,
  "nbformat_minor": 0,
  "metadata": {
    "colab": {
      "provenance": [],
      "authorship_tag": "ABX9TyOYFb9C6tR9BCg/XfD0q2Kk",
      "include_colab_link": true
    },
    "kernelspec": {
      "name": "python3",
      "display_name": "Python 3"
    },
    "language_info": {
      "name": "python"
    }
  },
  "cells": [
    {
      "cell_type": "markdown",
      "metadata": {
        "id": "view-in-github",
        "colab_type": "text"
      },
      "source": [
        "<a href=\"https://colab.research.google.com/github/anujoshi3390/Wine-Recomendations/blob/main/Wine_Recommendations_EAD%2C_Models%2C_Explanation.ipynb\" target=\"_parent\"><img src=\"https://colab.research.google.com/assets/colab-badge.svg\" alt=\"Open In Colab\"/></a>"
      ]
    },
    {
      "cell_type": "markdown",
      "source": [
        "Data Understanding\n",
        "The dataset was scraped from Vivino.com. It contains mostly textual data, but some of the data is numeric. Each row is specific to a bottle of wine. It contains the following information:\n",
        "\n",
        "-winery: str, the winery that makes that specific wine\n",
        "-wine_name: str, the name of the wine\n",
        "-wine_type: str, the classification of the wine (ie red, white)\n",
        "-wine_country: str, the country in which the wine was made\n",
        "-average_rating: float, the average rating of the wine on Vivino.com\n",
        "-num_of_ratings: int, the number of ratings for that wine on Vivino.com\n",
        "-wine_price: float, the price per bottle\n",
        "-grapes: str, the grapes utilized in the wine\n",
        "-alcohol_content: float, the percent alcohol in the wines\n",
        "-reviews: str, top 3 most helpful text reviews of the wine"
      ],
      "metadata": {
        "id": "hJlN57_g9rPD"
      }
    },
    {
      "cell_type": "code",
      "execution_count": 2,
      "metadata": {
        "id": "QKK1ZpgC9U4E"
      },
      "outputs": [],
      "source": [
        "#importing libraries\n",
        "import pandas as pd\n",
        "import numpy as np\n",
        "import matplotlib.pyplot as plt\n",
        "import seaborn as sns\n",
        "import re\n",
        "\n",
        "import warnings\n",
        "warnings.filterwarnings('ignore')"
      ]
    },
    {
      "cell_type": "code",
      "source": [
        "#bringing in the dataframe\n",
        "df = pd.read_csv('wine_info.csv')"
      ],
      "metadata": {
        "id": "lt-XSO9H9wOQ"
      },
      "execution_count": 3,
      "outputs": []
    },
    {
      "cell_type": "code",
      "source": [
        "#checking the first 5 rows of the DataFrame\n",
        "df.head()"
      ],
      "metadata": {
        "colab": {
          "base_uri": "https://localhost:8080/",
          "height": 408
        },
        "id": "M4zOecnk9wbF",
        "outputId": "055ac530-8fc3-4d33-8b1f-a187576bb73b"
      },
      "execution_count": 4,
      "outputs": [
        {
          "output_type": "execute_result",
          "data": {
            "text/plain": [
              "       winery           wine_name       wine_type wine_country  \\\n",
              "0  El Enemigo     Chardonnay 2018      White wine    Argentina   \n",
              "1      Minuty         M Rosé 2020       Rosé wine       France   \n",
              "2       Santi  Infinito Rosé 2018       Rosé wine        Italy   \n",
              "3       Jansz   Premium Rosé N.V.  Sparkling wine    Australia   \n",
              "4     Balbach       Riesling 2018      White wine      Germany   \n",
              "\n",
              "   average_rating  num_of_ratings  wine_price  \\\n",
              "0             4.3            2239       23.99   \n",
              "1             4.0             354       18.99   \n",
              "2             3.8              93       12.29   \n",
              "3             3.9            1460       29.00   \n",
              "4             4.3              49       14.99   \n",
              "\n",
              "                                         grapes  alcohol_content  \\\n",
              "0                               100% Chardonnay             13.8   \n",
              "1  50% Grenache, 40% Cinsault, 10% Shiraz/Syrah             12.5   \n",
              "2      65% Corvina, 30% Rondinella, 5% Molinara             12.0   \n",
              "3         Pinot Meunier, Pinot Noir, Chardonnay             12.0   \n",
              "4                                      Riesling              NaN   \n",
              "\n",
              "                                             reviews  \n",
              "0  4.25 perhaps. Apple, then more Chardonnay like...  \n",
              "1  3,8. Pale salmon color. Nose of peach, strawbe...  \n",
              "2  Dejlig, let neutral rosé. God til pizza ved ga...  \n",
              "3  89/100 Blend of 78/22/ Pinot Noir and Chardonn...  \n",
              "4  extraordinary balance between acidity and swee...  "
            ],
            "text/html": [
              "\n",
              "  <div id=\"df-f2a53009-603a-4f1a-be5d-032cc0ae169d\" class=\"colab-df-container\">\n",
              "    <div>\n",
              "<style scoped>\n",
              "    .dataframe tbody tr th:only-of-type {\n",
              "        vertical-align: middle;\n",
              "    }\n",
              "\n",
              "    .dataframe tbody tr th {\n",
              "        vertical-align: top;\n",
              "    }\n",
              "\n",
              "    .dataframe thead th {\n",
              "        text-align: right;\n",
              "    }\n",
              "</style>\n",
              "<table border=\"1\" class=\"dataframe\">\n",
              "  <thead>\n",
              "    <tr style=\"text-align: right;\">\n",
              "      <th></th>\n",
              "      <th>winery</th>\n",
              "      <th>wine_name</th>\n",
              "      <th>wine_type</th>\n",
              "      <th>wine_country</th>\n",
              "      <th>average_rating</th>\n",
              "      <th>num_of_ratings</th>\n",
              "      <th>wine_price</th>\n",
              "      <th>grapes</th>\n",
              "      <th>alcohol_content</th>\n",
              "      <th>reviews</th>\n",
              "    </tr>\n",
              "  </thead>\n",
              "  <tbody>\n",
              "    <tr>\n",
              "      <th>0</th>\n",
              "      <td>El Enemigo</td>\n",
              "      <td>Chardonnay 2018</td>\n",
              "      <td>White wine</td>\n",
              "      <td>Argentina</td>\n",
              "      <td>4.3</td>\n",
              "      <td>2239</td>\n",
              "      <td>23.99</td>\n",
              "      <td>100% Chardonnay</td>\n",
              "      <td>13.8</td>\n",
              "      <td>4.25 perhaps. Apple, then more Chardonnay like...</td>\n",
              "    </tr>\n",
              "    <tr>\n",
              "      <th>1</th>\n",
              "      <td>Minuty</td>\n",
              "      <td>M Rosé 2020</td>\n",
              "      <td>Rosé wine</td>\n",
              "      <td>France</td>\n",
              "      <td>4.0</td>\n",
              "      <td>354</td>\n",
              "      <td>18.99</td>\n",
              "      <td>50% Grenache, 40% Cinsault, 10% Shiraz/Syrah</td>\n",
              "      <td>12.5</td>\n",
              "      <td>3,8. Pale salmon color. Nose of peach, strawbe...</td>\n",
              "    </tr>\n",
              "    <tr>\n",
              "      <th>2</th>\n",
              "      <td>Santi</td>\n",
              "      <td>Infinito Rosé 2018</td>\n",
              "      <td>Rosé wine</td>\n",
              "      <td>Italy</td>\n",
              "      <td>3.8</td>\n",
              "      <td>93</td>\n",
              "      <td>12.29</td>\n",
              "      <td>65% Corvina, 30% Rondinella, 5% Molinara</td>\n",
              "      <td>12.0</td>\n",
              "      <td>Dejlig, let neutral rosé. God til pizza ved ga...</td>\n",
              "    </tr>\n",
              "    <tr>\n",
              "      <th>3</th>\n",
              "      <td>Jansz</td>\n",
              "      <td>Premium Rosé N.V.</td>\n",
              "      <td>Sparkling wine</td>\n",
              "      <td>Australia</td>\n",
              "      <td>3.9</td>\n",
              "      <td>1460</td>\n",
              "      <td>29.00</td>\n",
              "      <td>Pinot Meunier, Pinot Noir, Chardonnay</td>\n",
              "      <td>12.0</td>\n",
              "      <td>89/100 Blend of 78/22/ Pinot Noir and Chardonn...</td>\n",
              "    </tr>\n",
              "    <tr>\n",
              "      <th>4</th>\n",
              "      <td>Balbach</td>\n",
              "      <td>Riesling 2018</td>\n",
              "      <td>White wine</td>\n",
              "      <td>Germany</td>\n",
              "      <td>4.3</td>\n",
              "      <td>49</td>\n",
              "      <td>14.99</td>\n",
              "      <td>Riesling</td>\n",
              "      <td>NaN</td>\n",
              "      <td>extraordinary balance between acidity and swee...</td>\n",
              "    </tr>\n",
              "  </tbody>\n",
              "</table>\n",
              "</div>\n",
              "    <div class=\"colab-df-buttons\">\n",
              "\n",
              "  <div class=\"colab-df-container\">\n",
              "    <button class=\"colab-df-convert\" onclick=\"convertToInteractive('df-f2a53009-603a-4f1a-be5d-032cc0ae169d')\"\n",
              "            title=\"Convert this dataframe to an interactive table.\"\n",
              "            style=\"display:none;\">\n",
              "\n",
              "  <svg xmlns=\"http://www.w3.org/2000/svg\" height=\"24px\" viewBox=\"0 -960 960 960\">\n",
              "    <path d=\"M120-120v-720h720v720H120Zm60-500h600v-160H180v160Zm220 220h160v-160H400v160Zm0 220h160v-160H400v160ZM180-400h160v-160H180v160Zm440 0h160v-160H620v160ZM180-180h160v-160H180v160Zm440 0h160v-160H620v160Z\"/>\n",
              "  </svg>\n",
              "    </button>\n",
              "\n",
              "  <style>\n",
              "    .colab-df-container {\n",
              "      display:flex;\n",
              "      gap: 12px;\n",
              "    }\n",
              "\n",
              "    .colab-df-convert {\n",
              "      background-color: #E8F0FE;\n",
              "      border: none;\n",
              "      border-radius: 50%;\n",
              "      cursor: pointer;\n",
              "      display: none;\n",
              "      fill: #1967D2;\n",
              "      height: 32px;\n",
              "      padding: 0 0 0 0;\n",
              "      width: 32px;\n",
              "    }\n",
              "\n",
              "    .colab-df-convert:hover {\n",
              "      background-color: #E2EBFA;\n",
              "      box-shadow: 0px 1px 2px rgba(60, 64, 67, 0.3), 0px 1px 3px 1px rgba(60, 64, 67, 0.15);\n",
              "      fill: #174EA6;\n",
              "    }\n",
              "\n",
              "    .colab-df-buttons div {\n",
              "      margin-bottom: 4px;\n",
              "    }\n",
              "\n",
              "    [theme=dark] .colab-df-convert {\n",
              "      background-color: #3B4455;\n",
              "      fill: #D2E3FC;\n",
              "    }\n",
              "\n",
              "    [theme=dark] .colab-df-convert:hover {\n",
              "      background-color: #434B5C;\n",
              "      box-shadow: 0px 1px 3px 1px rgba(0, 0, 0, 0.15);\n",
              "      filter: drop-shadow(0px 1px 2px rgba(0, 0, 0, 0.3));\n",
              "      fill: #FFFFFF;\n",
              "    }\n",
              "  </style>\n",
              "\n",
              "    <script>\n",
              "      const buttonEl =\n",
              "        document.querySelector('#df-f2a53009-603a-4f1a-be5d-032cc0ae169d button.colab-df-convert');\n",
              "      buttonEl.style.display =\n",
              "        google.colab.kernel.accessAllowed ? 'block' : 'none';\n",
              "\n",
              "      async function convertToInteractive(key) {\n",
              "        const element = document.querySelector('#df-f2a53009-603a-4f1a-be5d-032cc0ae169d');\n",
              "        const dataTable =\n",
              "          await google.colab.kernel.invokeFunction('convertToInteractive',\n",
              "                                                    [key], {});\n",
              "        if (!dataTable) return;\n",
              "\n",
              "        const docLinkHtml = 'Like what you see? Visit the ' +\n",
              "          '<a target=\"_blank\" href=https://colab.research.google.com/notebooks/data_table.ipynb>data table notebook</a>'\n",
              "          + ' to learn more about interactive tables.';\n",
              "        element.innerHTML = '';\n",
              "        dataTable['output_type'] = 'display_data';\n",
              "        await google.colab.output.renderOutput(dataTable, element);\n",
              "        const docLink = document.createElement('div');\n",
              "        docLink.innerHTML = docLinkHtml;\n",
              "        element.appendChild(docLink);\n",
              "      }\n",
              "    </script>\n",
              "  </div>\n",
              "\n",
              "\n",
              "<div id=\"df-a8b63ac2-672e-485c-8489-19b8fd3659b5\">\n",
              "  <button class=\"colab-df-quickchart\" onclick=\"quickchart('df-a8b63ac2-672e-485c-8489-19b8fd3659b5')\"\n",
              "            title=\"Suggest charts\"\n",
              "            style=\"display:none;\">\n",
              "\n",
              "<svg xmlns=\"http://www.w3.org/2000/svg\" height=\"24px\"viewBox=\"0 0 24 24\"\n",
              "     width=\"24px\">\n",
              "    <g>\n",
              "        <path d=\"M19 3H5c-1.1 0-2 .9-2 2v14c0 1.1.9 2 2 2h14c1.1 0 2-.9 2-2V5c0-1.1-.9-2-2-2zM9 17H7v-7h2v7zm4 0h-2V7h2v10zm4 0h-2v-4h2v4z\"/>\n",
              "    </g>\n",
              "</svg>\n",
              "  </button>\n",
              "\n",
              "<style>\n",
              "  .colab-df-quickchart {\n",
              "      --bg-color: #E8F0FE;\n",
              "      --fill-color: #1967D2;\n",
              "      --hover-bg-color: #E2EBFA;\n",
              "      --hover-fill-color: #174EA6;\n",
              "      --disabled-fill-color: #AAA;\n",
              "      --disabled-bg-color: #DDD;\n",
              "  }\n",
              "\n",
              "  [theme=dark] .colab-df-quickchart {\n",
              "      --bg-color: #3B4455;\n",
              "      --fill-color: #D2E3FC;\n",
              "      --hover-bg-color: #434B5C;\n",
              "      --hover-fill-color: #FFFFFF;\n",
              "      --disabled-bg-color: #3B4455;\n",
              "      --disabled-fill-color: #666;\n",
              "  }\n",
              "\n",
              "  .colab-df-quickchart {\n",
              "    background-color: var(--bg-color);\n",
              "    border: none;\n",
              "    border-radius: 50%;\n",
              "    cursor: pointer;\n",
              "    display: none;\n",
              "    fill: var(--fill-color);\n",
              "    height: 32px;\n",
              "    padding: 0;\n",
              "    width: 32px;\n",
              "  }\n",
              "\n",
              "  .colab-df-quickchart:hover {\n",
              "    background-color: var(--hover-bg-color);\n",
              "    box-shadow: 0 1px 2px rgba(60, 64, 67, 0.3), 0 1px 3px 1px rgba(60, 64, 67, 0.15);\n",
              "    fill: var(--button-hover-fill-color);\n",
              "  }\n",
              "\n",
              "  .colab-df-quickchart-complete:disabled,\n",
              "  .colab-df-quickchart-complete:disabled:hover {\n",
              "    background-color: var(--disabled-bg-color);\n",
              "    fill: var(--disabled-fill-color);\n",
              "    box-shadow: none;\n",
              "  }\n",
              "\n",
              "  .colab-df-spinner {\n",
              "    border: 2px solid var(--fill-color);\n",
              "    border-color: transparent;\n",
              "    border-bottom-color: var(--fill-color);\n",
              "    animation:\n",
              "      spin 1s steps(1) infinite;\n",
              "  }\n",
              "\n",
              "  @keyframes spin {\n",
              "    0% {\n",
              "      border-color: transparent;\n",
              "      border-bottom-color: var(--fill-color);\n",
              "      border-left-color: var(--fill-color);\n",
              "    }\n",
              "    20% {\n",
              "      border-color: transparent;\n",
              "      border-left-color: var(--fill-color);\n",
              "      border-top-color: var(--fill-color);\n",
              "    }\n",
              "    30% {\n",
              "      border-color: transparent;\n",
              "      border-left-color: var(--fill-color);\n",
              "      border-top-color: var(--fill-color);\n",
              "      border-right-color: var(--fill-color);\n",
              "    }\n",
              "    40% {\n",
              "      border-color: transparent;\n",
              "      border-right-color: var(--fill-color);\n",
              "      border-top-color: var(--fill-color);\n",
              "    }\n",
              "    60% {\n",
              "      border-color: transparent;\n",
              "      border-right-color: var(--fill-color);\n",
              "    }\n",
              "    80% {\n",
              "      border-color: transparent;\n",
              "      border-right-color: var(--fill-color);\n",
              "      border-bottom-color: var(--fill-color);\n",
              "    }\n",
              "    90% {\n",
              "      border-color: transparent;\n",
              "      border-bottom-color: var(--fill-color);\n",
              "    }\n",
              "  }\n",
              "</style>\n",
              "\n",
              "  <script>\n",
              "    async function quickchart(key) {\n",
              "      const quickchartButtonEl =\n",
              "        document.querySelector('#' + key + ' button');\n",
              "      quickchartButtonEl.disabled = true;  // To prevent multiple clicks.\n",
              "      quickchartButtonEl.classList.add('colab-df-spinner');\n",
              "      try {\n",
              "        const charts = await google.colab.kernel.invokeFunction(\n",
              "            'suggestCharts', [key], {});\n",
              "      } catch (error) {\n",
              "        console.error('Error during call to suggestCharts:', error);\n",
              "      }\n",
              "      quickchartButtonEl.classList.remove('colab-df-spinner');\n",
              "      quickchartButtonEl.classList.add('colab-df-quickchart-complete');\n",
              "    }\n",
              "    (() => {\n",
              "      let quickchartButtonEl =\n",
              "        document.querySelector('#df-a8b63ac2-672e-485c-8489-19b8fd3659b5 button');\n",
              "      quickchartButtonEl.style.display =\n",
              "        google.colab.kernel.accessAllowed ? 'block' : 'none';\n",
              "    })();\n",
              "  </script>\n",
              "</div>\n",
              "\n",
              "    </div>\n",
              "  </div>\n"
            ],
            "application/vnd.google.colaboratory.intrinsic+json": {
              "type": "dataframe",
              "variable_name": "df",
              "summary": "{\n  \"name\": \"df\",\n  \"rows\": 1800,\n  \"fields\": [\n    {\n      \"column\": \"winery\",\n      \"properties\": {\n        \"dtype\": \"string\",\n        \"num_unique_values\": 1065,\n        \"samples\": [\n          \"Reichsgraf von Kesselstatt\",\n          \"Montinore Estate\",\n          \"Brewer-Clifton\"\n        ],\n        \"semantic_type\": \"\",\n        \"description\": \"\"\n      }\n    },\n    {\n      \"column\": \"wine_name\",\n      \"properties\": {\n        \"dtype\": \"string\",\n        \"num_unique_values\": 1473,\n        \"samples\": [\n          \"Papirusa Manzanilla (Solera Reserva) N.V.\",\n          \"Bricco Quaglia Moscato d'Asti 2019\",\n          \"Bent el Riah Passito di Pantelleria 2011\"\n        ],\n        \"semantic_type\": \"\",\n        \"description\": \"\"\n      }\n    },\n    {\n      \"column\": \"wine_type\",\n      \"properties\": {\n        \"dtype\": \"category\",\n        \"num_unique_values\": 6,\n        \"samples\": [\n          \"White wine\",\n          \"Ros\\u00e9 wine\",\n          \"Red wine\"\n        ],\n        \"semantic_type\": \"\",\n        \"description\": \"\"\n      }\n    },\n    {\n      \"column\": \"wine_country\",\n      \"properties\": {\n        \"dtype\": \"category\",\n        \"num_unique_values\": 24,\n        \"samples\": [\n          \"South Africa\",\n          \"Georgia\",\n          \"Argentina\"\n        ],\n        \"semantic_type\": \"\",\n        \"description\": \"\"\n      }\n    },\n    {\n      \"column\": \"average_rating\",\n      \"properties\": {\n        \"dtype\": \"number\",\n        \"std\": 0.2330883597163126,\n        \"min\": 2.6,\n        \"max\": 4.6,\n        \"num_unique_values\": 18,\n        \"samples\": [\n          4.3,\n          4.0,\n          4.4\n        ],\n        \"semantic_type\": \"\",\n        \"description\": \"\"\n      }\n    },\n    {\n      \"column\": \"num_of_ratings\",\n      \"properties\": {\n        \"dtype\": \"number\",\n        \"std\": 2009,\n        \"min\": 25,\n        \"max\": 27210,\n        \"num_unique_values\": 843,\n        \"samples\": [\n          214,\n          576,\n          8283\n        ],\n        \"semantic_type\": \"\",\n        \"description\": \"\"\n      }\n    },\n    {\n      \"column\": \"wine_price\",\n      \"properties\": {\n        \"dtype\": \"number\",\n        \"std\": 13.772780773208908,\n        \"min\": 9.99,\n        \"max\": 192.99,\n        \"num_unique_values\": 219,\n        \"samples\": [\n          39.26,\n          30.72,\n          47.99\n        ],\n        \"semantic_type\": \"\",\n        \"description\": \"\"\n      }\n    },\n    {\n      \"column\": \"grapes\",\n      \"properties\": {\n        \"dtype\": \"category\",\n        \"num_unique_values\": 557,\n        \"samples\": [\n          \"Shiraz/Syrah, Grenache, Zinfandel, Mourvedre, Petite Sirah\",\n          \"Lambrusco\",\n          \"100% Pinot Gris\"\n        ],\n        \"semantic_type\": \"\",\n        \"description\": \"\"\n      }\n    },\n    {\n      \"column\": \"alcohol_content\",\n      \"properties\": {\n        \"dtype\": \"number\",\n        \"std\": 3.127356701337758,\n        \"min\": 4.5,\n        \"max\": 40.0,\n        \"num_unique_values\": 71,\n        \"samples\": [\n          13.6,\n          13.8,\n          14.4\n        ],\n        \"semantic_type\": \"\",\n        \"description\": \"\"\n      }\n    },\n    {\n      \"column\": \"reviews\",\n      \"properties\": {\n        \"dtype\": \"string\",\n        \"num_unique_values\": 1784,\n        \"samples\": [\n          \"Pleasant surprise,very good..very freshing,summer wine, passion fruit, peach, pear, pineapple, not sweet well balanced and rich aromas,Incredibly juicy and zesty aromas. Strong notes of citrus, particularly lime and grapefruit, pear, nectarine, and pineapple. One of the best Sauvignon Blancs I\\u2019ve had. Alexander Thompson,Excellent. Bigger than the average NZ SB. Maybe the best I have had. Minerals were great\",\n          \"Amazing rose. Strawberry with a citrus finish. Medium length, acidic, on the drier side and light. Great wine to bring to a party.,3.75 - great with barbecue and burgers.,Lots of red berries coupled with a nice dose of minerality. Good.\",\n          \"Impressive qpr! Autolytic notes weave wonderfully into apricot, flowers, and a touch of honeysuckle. Actually can't believe the qpr. Wow.,Made some seafood paella and this was a great match. The bubbles were fine and cut through the spicy and smoky paprika, while complementing the shellfish with citrus notes and tart green apple. Great length, the tiniest amount of sweetness. Golden raspberries and white flowers on the nose. Superb for the price!,Delicious bubbly, light with a hint of citrus\"\n        ],\n        \"semantic_type\": \"\",\n        \"description\": \"\"\n      }\n    }\n  ]\n}"
            }
          },
          "metadata": {},
          "execution_count": 4
        }
      ]
    },
    {
      "cell_type": "code",
      "source": [
        "#This is the current size of the dataframe\n",
        "df.shape\n"
      ],
      "metadata": {
        "colab": {
          "base_uri": "https://localhost:8080/"
        },
        "id": "22psvKDI9wdx",
        "outputId": "3a281674-1019-4c2e-bc21-dbd2f4286415"
      },
      "execution_count": 6,
      "outputs": [
        {
          "output_type": "execute_result",
          "data": {
            "text/plain": [
              "(1800, 10)"
            ]
          },
          "metadata": {},
          "execution_count": 6
        }
      ]
    },
    {
      "cell_type": "code",
      "source": [
        "#checking for duplicates\n",
        "sum(df.duplicated())"
      ],
      "metadata": {
        "colab": {
          "base_uri": "https://localhost:8080/"
        },
        "id": "qSfl--wC9wgG",
        "outputId": "c3fbc6a5-203d-4747-c6a9-99b20fb64f82"
      },
      "execution_count": 5,
      "outputs": [
        {
          "output_type": "execute_result",
          "data": {
            "text/plain": [
              "11"
            ]
          },
          "metadata": {},
          "execution_count": 5
        }
      ]
    },
    {
      "cell_type": "code",
      "source": [
        "df.drop_duplicates(inplace = True)"
      ],
      "metadata": {
        "id": "_DhdaauC9wiM"
      },
      "execution_count": 7,
      "outputs": []
    },
    {
      "cell_type": "code",
      "source": [
        "df.dtypes"
      ],
      "metadata": {
        "colab": {
          "base_uri": "https://localhost:8080/",
          "height": 393
        },
        "id": "USG1zNYA9wlE",
        "outputId": "e3c58170-c368-493d-8898-76e60755dce5"
      },
      "execution_count": 9,
      "outputs": [
        {
          "output_type": "execute_result",
          "data": {
            "text/plain": [
              "winery              object\n",
              "wine_name           object\n",
              "wine_type           object\n",
              "wine_country        object\n",
              "average_rating     float64\n",
              "num_of_ratings       int64\n",
              "wine_price         float64\n",
              "grapes              object\n",
              "alcohol_content    float64\n",
              "reviews             object\n",
              "dtype: object"
            ],
            "text/html": [
              "<div>\n",
              "<style scoped>\n",
              "    .dataframe tbody tr th:only-of-type {\n",
              "        vertical-align: middle;\n",
              "    }\n",
              "\n",
              "    .dataframe tbody tr th {\n",
              "        vertical-align: top;\n",
              "    }\n",
              "\n",
              "    .dataframe thead th {\n",
              "        text-align: right;\n",
              "    }\n",
              "</style>\n",
              "<table border=\"1\" class=\"dataframe\">\n",
              "  <thead>\n",
              "    <tr style=\"text-align: right;\">\n",
              "      <th></th>\n",
              "      <th>0</th>\n",
              "    </tr>\n",
              "  </thead>\n",
              "  <tbody>\n",
              "    <tr>\n",
              "      <th>winery</th>\n",
              "      <td>object</td>\n",
              "    </tr>\n",
              "    <tr>\n",
              "      <th>wine_name</th>\n",
              "      <td>object</td>\n",
              "    </tr>\n",
              "    <tr>\n",
              "      <th>wine_type</th>\n",
              "      <td>object</td>\n",
              "    </tr>\n",
              "    <tr>\n",
              "      <th>wine_country</th>\n",
              "      <td>object</td>\n",
              "    </tr>\n",
              "    <tr>\n",
              "      <th>average_rating</th>\n",
              "      <td>float64</td>\n",
              "    </tr>\n",
              "    <tr>\n",
              "      <th>num_of_ratings</th>\n",
              "      <td>int64</td>\n",
              "    </tr>\n",
              "    <tr>\n",
              "      <th>wine_price</th>\n",
              "      <td>float64</td>\n",
              "    </tr>\n",
              "    <tr>\n",
              "      <th>grapes</th>\n",
              "      <td>object</td>\n",
              "    </tr>\n",
              "    <tr>\n",
              "      <th>alcohol_content</th>\n",
              "      <td>float64</td>\n",
              "    </tr>\n",
              "    <tr>\n",
              "      <th>reviews</th>\n",
              "      <td>object</td>\n",
              "    </tr>\n",
              "  </tbody>\n",
              "</table>\n",
              "</div><br><label><b>dtype:</b> object</label>"
            ]
          },
          "metadata": {},
          "execution_count": 9
        }
      ]
    },
    {
      "cell_type": "code",
      "source": [
        "df.describe()"
      ],
      "metadata": {
        "id": "EPptwdw0Batv"
      },
      "execution_count": null,
      "outputs": []
    },
    {
      "cell_type": "markdown",
      "source": [
        "Data Cleaning\n",
        "\n"
      ],
      "metadata": {
        "id": "4WMxmsKGBfuD"
      }
    },
    {
      "cell_type": "code",
      "source": [
        "#combining the winery and wine_name to get the full name of the product, the combination named 'title', and then\n",
        "#assigning it to the index\n",
        "df['title'] = df['winery'].str.cat(df['wine_name'], sep = ' ')\n",
        "df.set_index('title', inplace = True)"
      ],
      "metadata": {
        "id": "skhsGFhJBax4"
      },
      "execution_count": null,
      "outputs": []
    },
    {
      "cell_type": "code",
      "source": [
        "#creating a function to remove the year from the 'wine_name' column\n",
        "def remove_year_in_name(x):\n",
        "    '''\n",
        "    This function removes the year from the\n",
        "    wine (name of wine) column.\n",
        "    '''\n",
        "    #These are the typical years of wines on Vivino.com\n",
        "    if '17' or '18' or '19' or '20' in x:\n",
        "        x = x[:-5]\n",
        "        return x\n",
        "    else:\n",
        "        return x"
      ],
      "metadata": {
        "id": "7nctVfwABa0d"
      },
      "execution_count": null,
      "outputs": []
    },
    {
      "cell_type": "markdown",
      "source": [
        "I have decided to remove the year from the 'wine_name' column for easier filtering. The year will still be a part of the full 'title' variable that is now the index of the dataset."
      ],
      "metadata": {
        "id": "NZX4u6IMBszl"
      }
    },
    {
      "cell_type": "code",
      "source": [
        "#applying the function above\n",
        "df['wine_name'] = df['wine_name'].apply(remove_year_in_name)"
      ],
      "metadata": {
        "id": "Qq435S8BBa2j"
      },
      "execution_count": null,
      "outputs": []
    },
    {
      "cell_type": "code",
      "source": [
        "df.isnull().sum()"
      ],
      "metadata": {
        "id": "-DFVE18UBa4p"
      },
      "execution_count": null,
      "outputs": []
    },
    {
      "cell_type": "markdown",
      "source": [
        "This verifies that a good amount of the entries for alcohol_content are not available. Perhaps the column should be dropped. Wine price, I believe is something that can be imputed, as for the reviews, I would not suggest any filling techniques for the null values."
      ],
      "metadata": {
        "id": "-21nsDEkB30_"
      }
    },
    {
      "cell_type": "code",
      "source": [
        "#dropping the alcohol column\n",
        "df.drop('alcohol_content', axis = 1, inplace = True)"
      ],
      "metadata": {
        "id": "fSDK1xzZBa6k"
      },
      "execution_count": null,
      "outputs": []
    },
    {
      "cell_type": "markdown",
      "source": [
        "With some of the price variables missing, I am going to impute them with the mean"
      ],
      "metadata": {
        "id": "PhlHRfVeB-FN"
      }
    },
    {
      "cell_type": "code",
      "source": [
        "#imputing the mean\n",
        "wine_mean = df.wine_price.mean()\n",
        "\n",
        "df['wine_price'].fillna(wine_mean, inplace = True)"
      ],
      "metadata": {
        "id": "GBW5wOm1Ba8A"
      },
      "execution_count": null,
      "outputs": []
    },
    {
      "cell_type": "markdown",
      "source": [
        "Below I will remove the null review entries."
      ],
      "metadata": {
        "id": "IE5M-XioCCrN"
      }
    },
    {
      "cell_type": "code",
      "source": [
        "Below I will remove the null review entries."
      ],
      "metadata": {
        "id": "JmdAyoMUBa9l"
      },
      "execution_count": null,
      "outputs": []
    },
    {
      "cell_type": "code",
      "source": [
        "#dropping the rows with the missing reviews\n",
        "df.dropna(subset = ['reviews'], inplace = True)"
      ],
      "metadata": {
        "id": "Bu8tiGyECEhW"
      },
      "execution_count": null,
      "outputs": []
    },
    {
      "cell_type": "code",
      "source": [
        "#creating a function to fix a capitalization error\n",
        "def lowercase_W(x):\n",
        "    \"\"\"\n",
        "    This function changes the capitalization error\n",
        "    in Fortified Wine\n",
        "    \"\"\"\n",
        "    if x == 'Fortified Wine':\n",
        "        x = 'Fortified wine'\n",
        "        return x\n",
        "    else:\n",
        "        return x"
      ],
      "metadata": {
        "id": "2ggg5dGmCEow"
      },
      "execution_count": null,
      "outputs": []
    },
    {
      "cell_type": "code",
      "source": [
        "df['wine_type'] = df['wine_type'].apply(lowercase_W)"
      ],
      "metadata": {
        "id": "VkBZUVIkCErP"
      },
      "execution_count": null,
      "outputs": []
    },
    {
      "cell_type": "code",
      "source": [
        "#changing the wine_type to a single word\n",
        "conditions = [df['wine_type'] == 'White wine',df['wine_type'] == 'Red wine',\n",
        "               df['wine_type'] =='Sparkling wine',df['wine_type'] == 'Rosé wine',\n",
        "               df['wine_type'] =='Dessert wine', df['wine_type'] =='Fortified wine']\n",
        "choices = ['White', 'Red', 'Sparkling', 'Rosé', 'Dessert', 'Fortified']\n",
        "\n",
        "df['wine_type'] = np.select(conditions, choices)"
      ],
      "metadata": {
        "id": "m9SbVsW0CEtd"
      },
      "execution_count": null,
      "outputs": []
    },
    {
      "cell_type": "code",
      "source": [
        "#creating a function to clean the grape column\n",
        "def clean_grape_column(x):\n",
        "    '''\n",
        "    This function cleans the entries in the grape\n",
        "    column to make all grapes have\n",
        "    only 1 name. It removes the '100 %', and it\n",
        "    also makes any 2 or more grapes in 1 wine\n",
        "    as a blend.\n",
        "    '''\n",
        "    if type(x) == float: #this will keep the NaN values in tact\n",
        "        return x\n",
        "    if ',' in x:\n",
        "        return 'Blend'\n",
        "    elif '%' in x:\n",
        "        return ' '.join(x.split()[1:])\n",
        "    else:\n",
        "        return x\n",
        ""
      ],
      "metadata": {
        "id": "Egg6qgYxCEvp"
      },
      "execution_count": null,
      "outputs": []
    },
    {
      "cell_type": "code",
      "source": [
        "df['grapes'] = df['grapes'].apply(clean_grape_column)"
      ],
      "metadata": {
        "id": "onVIPyhyCExP"
      },
      "execution_count": null,
      "outputs": []
    },
    {
      "cell_type": "code",
      "source": [
        "df[df['grapes'].isna()].head(2)"
      ],
      "metadata": {
        "id": "eTULHB2lCTVI"
      },
      "execution_count": null,
      "outputs": []
    },
    {
      "cell_type": "markdown",
      "source": [
        "I was hoping that for these NaN values that the name of the grape would be in the wine_name column as they typically would be a part of the name of the wine. Because they are not for these remaining N/A grapes, I will have to drop these rows."
      ],
      "metadata": {
        "id": "2FwRn4H8CY3X"
      }
    },
    {
      "cell_type": "code",
      "source": [
        "df.dropna(subset=['grapes'], inplace = True)"
      ],
      "metadata": {
        "id": "T79piJYtCTX5"
      },
      "execution_count": null,
      "outputs": []
    },
    {
      "cell_type": "markdown",
      "source": [
        "Now that I have categorized 2 or more grapes as a blend, I can get a little more specific in terms of the type of blend based on the type of wine:"
      ],
      "metadata": {
        "id": "hn4raQ98CgBX"
      }
    },
    {
      "cell_type": "code",
      "source": [
        "#changing the Blend to Red, White Blend etc...\n",
        "types = df['wine_type'].tolist()\n",
        "grapes = df['grapes'].tolist()\n",
        "\n",
        "for i, n in enumerate(grapes):\n",
        "    if grapes[i] == 'Blend':\n",
        "        grapes[i] = types[i] + ' ' + 'Blend'\n",
        "\n",
        "df['grapes'] = grapes"
      ],
      "metadata": {
        "id": "ohNtlp4ZCTaq"
      },
      "execution_count": null,
      "outputs": []
    },
    {
      "cell_type": "code",
      "source": [
        "df.shape"
      ],
      "metadata": {
        "id": "I9BY_-HTCTdG"
      },
      "execution_count": null,
      "outputs": []
    },
    {
      "cell_type": "markdown",
      "source": [
        "This dataset now has 1770 wines."
      ],
      "metadata": {
        "id": "qiRTbCUHCpsh"
      }
    },
    {
      "cell_type": "markdown",
      "source": [
        "## **Exploratory Data Analysis**"
      ],
      "metadata": {
        "id": "IQwiTFZJCteb"
      }
    },
    {
      "cell_type": "code",
      "source": [
        "#looking at unique wineries\n",
        "df['winery'].nunique()"
      ],
      "metadata": {
        "id": "gQCKLBEWCTfe"
      },
      "execution_count": null,
      "outputs": []
    },
    {
      "cell_type": "code",
      "source": [
        "#looking at the wines by winery\n",
        "df.groupby('winery')['wine_name'].count().sort_values(ascending = False).head()"
      ],
      "metadata": {
        "id": "NDJ_hToZCThc"
      },
      "execution_count": null,
      "outputs": []
    },
    {
      "cell_type": "code",
      "source": [
        "#creating a chart of wines by winery\n",
        "import plotly.graph_objects as go\n",
        "\n",
        "fig = go.Figure(data=[go.Table(header=dict(values=['Winery', 'Number of Wines']),\n",
        "                 cells=dict(values=[['Lustau', 'Quady', 'Sandeman', 'Taylor\\'s', 'Warre\\'s'], [16, 14, 13, 11, 10]]))\n",
        "                     ])\n",
        "fig.update_layout(\n",
        "    autosize=False,\n",
        "    width=500,\n",
        "    height=400,\n",
        "    margin=dict(\n",
        "        l=50,\n",
        "        r=50,\n",
        "        b=100,\n",
        "        t=100,\n",
        "        pad=1\n",
        "    ),\n",
        ")\n",
        "fig.show()"
      ],
      "metadata": {
        "id": "Ur4vd8Y7CTi0"
      },
      "execution_count": null,
      "outputs": []
    },
    {
      "cell_type": "code",
      "source": [
        "#creating a graph of wines by winery\n",
        "labels = list(df.groupby('winery')['wine_name'].count().sort_values(ascending = False).head(5).index)\n",
        "\n",
        "fig, ax = plt.subplots()\n",
        "sns.barplot(x = df.groupby('winery')['wine_name'].count().sort_values(ascending = False).head(5).index, y = df.groupby('winery')['wine_name'].count().sort_values(ascending = False).head(5).values)\n",
        "ax.set_title('Wines by Winery (Top 5 Representation)')\n",
        "ax.set_xlabel('Winery Name')\n",
        "ax.set_ylabel('Frequency')\n",
        "ax.set_xticklabels(labels, rotation = 45)\n",
        "plt.savefig('Images/wine_representation.png', facecolor='white' );\n"
      ],
      "metadata": {
        "id": "Zf6uy30jCTka"
      },
      "execution_count": null,
      "outputs": []
    },
    {
      "cell_type": "code",
      "source": [
        "#creating a graph of wines by winery\n",
        "labels = list(df.groupby('winery')['wine_name'].count().sort_values(ascending = False).head(5).index)\n",
        "\n",
        "fig, ax = plt.subplots()\n",
        "sns.barplot(x = df.groupby('winery')['wine_name'].count().sort_values(ascending = False).head(5).index, y = df.groupby('winery')['wine_name'].count().sort_values(ascending = False).head(5).values)\n",
        "ax.set_title('Wines by Winery (Top 5 Representation)')\n",
        "ax.set_xlabel('Winery Name')\n",
        "ax.set_ylabel('Frequency')\n",
        "ax.set_xticklabels(labels, rotation = 45)\n",
        "plt.savefig('Images/wine_representation.png', facecolor='white' );"
      ],
      "metadata": {
        "id": "88TtQrLHC5Gj"
      },
      "execution_count": null,
      "outputs": []
    },
    {
      "cell_type": "markdown",
      "source": [
        "It seems the Lustau winery has 16 different products represented in this dataset. There are a few other wineries with various products in this dataset. I will hopefully use that later on and create a version of a recommender based on winery.\n",
        "\n"
      ],
      "metadata": {
        "id": "aBNsolI_DPJj"
      }
    },
    {
      "cell_type": "code",
      "source": [
        "#looking at the distributon of wine types\n",
        "df['wine_type'].value_counts()"
      ],
      "metadata": {
        "id": "MY-zRuhBC5JT"
      },
      "execution_count": null,
      "outputs": []
    },
    {
      "cell_type": "code",
      "source": [
        "#graphing the distribution of wines by type and country\n",
        "fig, axes = plt.subplots(1, 2, figsize=(17, 5))\n",
        "\n",
        "one = sns.barplot(ax=axes[0], x=df['wine_type'].value_counts().index, y=df['wine_type'].value_counts().values)\n",
        "axes[0].set_title('Wines by Type')\n",
        "axes[0].set_xlabel('Type of Wine')\n",
        "axes[0].set_ylabel('Frequency')\n",
        "\n",
        "two = sns.barplot(ax=axes[1], x=df['wine_country'].value_counts().index, y=df['wine_country'].value_counts().values)\n",
        "two.set_xticklabels(df['wine_country'].value_counts().index, rotation = 45)\n",
        "axes[1].set_title('Wines by Country')\n",
        "axes[1].set_xlabel('Country')\n",
        "axes[1].set_ylabel('Frequency of Wines')\n",
        "\n",
        "plt.tight_layout()\n",
        "plt.savefig('Images/wine_graphs.png', facecolor='white' );"
      ],
      "metadata": {
        "id": "ZOVfpCQaC5Lp"
      },
      "execution_count": null,
      "outputs": []
    },
    {
      "cell_type": "markdown",
      "source": [
        "There seems to be a fairly even distribution of wines in the dataset. The majority of the wines in this dataset come from France, the United States and Italy. I did not find this surprising at all."
      ],
      "metadata": {
        "id": "3oBEYDjEDWec"
      }
    },
    {
      "cell_type": "code",
      "source": [
        "#graphing the ratings data\n",
        "fig, ax = plt.subplots()\n",
        "sns.barplot(df['average_rating'], df['num_of_ratings'])\n",
        "ax.set_xlabel('Average Rating of Wines')\n",
        "ax.set_ylabel('Number of Wines with Average Rating')\n",
        "ax.set_title('Number of Ratings vs Average Ratings');\n"
      ],
      "metadata": {
        "id": "TFlzhlifC5Nr"
      },
      "execution_count": null,
      "outputs": []
    },
    {
      "cell_type": "markdown",
      "source": [
        "The ratings of wines are from 1 - 5. The range of ratings in this dataset is moreso in the middle. There is no rating less than 2.6 and none larger than 4.6. This means most of the wines have a fairly similar rating. The mode of the ratings collected is the 3.8 mark. This could be representative of truly average thoughts about the wine.\n",
        "\n"
      ],
      "metadata": {
        "id": "YBeNgC-uDbwN"
      }
    },
    {
      "cell_type": "code",
      "source": [
        "df.grapes.value_counts().head()"
      ],
      "metadata": {
        "id": "DMuyk2GRC5Pj"
      },
      "execution_count": null,
      "outputs": []
    },
    {
      "cell_type": "code",
      "source": [
        "#graphing the number of wines per grape\n",
        "fig, ax = plt.subplots(figsize=(20,6))\n",
        "sns.barplot(df['grapes'].value_counts().index, df['grapes'].value_counts().values)\n",
        "ax.set_xlabel('Types of Grapes')\n",
        "ax.set_ylabel('Number of Wines')\n",
        "ax.set_xticklabels(df['grapes'].value_counts().index, rotation = 90)\n",
        "ax.set_title('Number of Wines Per Grape');\n"
      ],
      "metadata": {
        "id": "hh57HMkWC5RX"
      },
      "execution_count": null,
      "outputs": []
    },
    {
      "cell_type": "markdown",
      "source": [
        "Most of the wines in this dataset are Fortified blends. Infact, I would say that blends make up the majority of wines in the dataset. This shows that the combination of grapes in a wine is a popular technique.\n",
        "\n"
      ],
      "metadata": {
        "id": "Dg_hqSwkDjAP"
      }
    },
    {
      "cell_type": "code",
      "source": [
        "#graphing a histogram of wine prices\n",
        "fig, ax = plt.subplots()\n",
        "sns.distplot(df['wine_price'], kde = False)\n",
        "ax.set_title('Histogram of Wine Prices')\n",
        "ax.set_xlabel('Price in Dollars')\n",
        "ax.set_ylabel('Frequency of Wines');"
      ],
      "metadata": {
        "id": "rJwekkOhC5Sx"
      },
      "execution_count": null,
      "outputs": []
    },
    {
      "cell_type": "markdown",
      "source": [
        "The majority of the wines prices seem to fall around the 25-30 USD mark. The range of the wines is quite large, giving room for suggestion to create a recommender based on price as another variation of a rec system."
      ],
      "metadata": {
        "id": "D8o-cM9RDrbs"
      }
    },
    {
      "cell_type": "code",
      "source": [
        "df.groupby('wine_type')['wine_price'].mean().index"
      ],
      "metadata": {
        "id": "q6x0FY3nDmLW"
      },
      "execution_count": null,
      "outputs": []
    },
    {
      "cell_type": "code",
      "source": [
        "#graphing the price by wine type\n",
        "fig, ax = plt.subplots(figsize=(8, 5))\n",
        "sns.barplot(df.groupby('wine_type')['wine_price'].mean().index, df.groupby('wine_type')['wine_price'].mean().values)\n",
        "ax.set_xlabel('Wine Type')\n",
        "ax.set_ylabel('Wine Price Mean (in USD)')\n",
        "ax.set_title('Price by Wine Type');\n"
      ],
      "metadata": {
        "id": "RdhAtcrNDmOl"
      },
      "execution_count": null,
      "outputs": []
    },
    {
      "cell_type": "markdown",
      "source": [
        "It seems that red wine tends to be a bit pricer than others, however, in the scope of things, the difference in average price between the types of wine is not much. The range in price is only 15 USD. This means that if a person were to favor a specific wine type it would not cost them too much more for their preference.\n",
        "\n"
      ],
      "metadata": {
        "id": "Ia6-nvZWDyl9"
      }
    },
    {
      "cell_type": "markdown",
      "source": [
        "## Data Preprocessing"
      ],
      "metadata": {
        "id": "j7SMNURjD2KP"
      }
    },
    {
      "cell_type": "markdown",
      "source": [
        "**Natural Language Processing**\n",
        "\n"
      ],
      "metadata": {
        "id": "I_Z3HkYuD2zE"
      }
    },
    {
      "cell_type": "markdown",
      "source": [
        "Now that I understand the data better, I can move on to preprocessing the text reviews using NLP. In this step, I will be adding the grapes and wine types into the stopwords as well so that I can perform a Classification algorithm on them below.\n",
        "\n"
      ],
      "metadata": {
        "id": "6UzK4zrzD7gZ"
      }
    },
    {
      "cell_type": "code",
      "source": [
        "#importing NLP libraries\n",
        "from nltk.corpus import stopwords\n",
        "from nltk import pos_tag\n",
        "import re\n",
        "from nltk.tokenize import RegexpTokenizer\n",
        "from nltk.corpus import wordnet\n",
        "from nltk.stem import WordNetLemmatizer"
      ],
      "metadata": {
        "id": "sWg5w9s0DmR_"
      },
      "execution_count": null,
      "outputs": []
    },
    {
      "cell_type": "code",
      "source": [
        "#generating the list of NLTK's typical english stop words\n",
        "sw = stopwords.words('english')\n",
        "\n",
        "#this is a list of grapes lowercased to add to stopwords\n",
        "wine_string = ','.join(list(df['grapes'].str.lower().unique()))\n",
        "if ' ' in wine_string:\n",
        "    wine_string = wine_string.replace(' ', ',')\n",
        "\n",
        "grape_sw = wine_string.split(',')\n",
        "\n",
        "#compiling a list of wine_types to add to stop words as well\n",
        "kind_sw = []\n",
        "\n",
        "for kind in list(df['wine_type'].unique()):\n",
        "    kind = kind.lower().replace(' wine', '')\n",
        "    kind_sw.append(kind)\n",
        "\n",
        "\n",
        "#adding the grape & kind stop words to the list of all stop words\n",
        "sw.extend(grape_sw)\n",
        "sw.extend(kind_sw)\n",
        "\n",
        "#adding additional words in as well that are unnecessary:\n",
        "unnecessary_words = ['port', 'good', 'nice', 'smell', 'taste', 'mouth',\n",
        "                     'nose', 'great', 'note', 'finish', 'tannin',\n",
        "                     'wine', 'like', 'palate', 'aroma', 'one', 'hint',\n",
        "                    'well', 'long', 'short', 'ro', 'ros', 'perfect',\n",
        "                     'flavor', 'lovely', 'really', 'very', 'bit', 'little',\n",
        "                     'make', 'open', 'lot', 'go', 'big',\n",
        "                    'age', 'brioche', 'bottle', 'drink', 'toast']\n",
        "sw.extend(unnecessary_words)"
      ],
      "metadata": {
        "id": "A00YfaB8DmUM"
      },
      "execution_count": null,
      "outputs": []
    },
    {
      "cell_type": "code",
      "source": [
        "def get_wordnet_pos(treebank_tag):\n",
        "    '''\n",
        "    This function will convert nltk POS\n",
        "    to wordnet tags\n",
        "    '''\n",
        "    if treebank_tag.startswith('J'):\n",
        "        return wordnet.ADJ\n",
        "    elif treebank_tag.startswith('V'):\n",
        "        return wordnet.VERB\n",
        "    elif treebank_tag.startswith('N'):\n",
        "        return wordnet.NOUN\n",
        "    elif treebank_tag.startswith('R'):\n",
        "        return wordnet.ADV\n",
        "    else:\n",
        "        return wordnet.NOUN\n"
      ],
      "metadata": {
        "id": "dRB8enSfDmWb"
      },
      "execution_count": null,
      "outputs": []
    },
    {
      "cell_type": "code",
      "source": [
        "def text_preparer(doc, stopwords=sw):\n",
        "    '''\n",
        "    This function takes in a document, and a list of\n",
        "    stop words. It prepares the text by removing the numbers\n",
        "    and punctuation (with Regex), lowercasing the\n",
        "    elements, and lemmatizing the text.\n",
        "    '''\n",
        "\n",
        "    regex_token = RegexpTokenizer(r\"([a-zA-Z]+(?:’[a-z]+)?)\")\n",
        "    doc = regex_token.tokenize(doc)\n",
        "    doc = [word.lower() for word in doc]\n",
        "    doc = [word for word in doc if word not in sw]\n",
        "    doc = pos_tag(doc)\n",
        "    #The lemmatizer wants to know what to look for:\n",
        "    doc = [(word[0], get_wordnet_pos(word[1])) for word in doc]\n",
        "    lemmatizer = WordNetLemmatizer()\n",
        "    doc = [lemmatizer.lemmatize(word[0], word[1]) for word in doc]\n",
        "    return ' '.join(doc)"
      ],
      "metadata": {
        "id": "_IzubsgADmZf"
      },
      "execution_count": null,
      "outputs": []
    },
    {
      "cell_type": "code",
      "source": [
        "#parsing the review text\n",
        "df['token_reviews'] = df['reviews'].apply(text_preparer)"
      ],
      "metadata": {
        "id": "SHQOaNmGDmcS"
      },
      "execution_count": null,
      "outputs": []
    },
    {
      "cell_type": "code",
      "source": [
        "#getting the groups together to make word clouds\n",
        "White = df[df['wine_type'] == 'White']['token_reviews'].values.tolist()\n",
        "Red = df[df['wine_type'] == 'Red']['token_reviews'].values.tolist()\n",
        "Sparkling = df[df['wine_type'] == 'Sparkling']['token_reviews'].values.tolist()\n",
        "Fortified = df[df['wine_type'] == 'Fortified']['token_reviews'].values.tolist()\n",
        "Dessert = df[df['wine_type'] == 'Dessert']['token_reviews'].values.tolist()\n",
        "Rosé = df[df['wine_type'] == 'Rosé']['token_reviews'].values.tolist()\n",
        "texts = [White, Red, Sparkling, Fortified, Dessert, Rosé]\n",
        "\n",
        "#these will be the labels for word clouds\n",
        "labels = ['White', 'Red', 'Sparkling', 'Fortified', 'Dessert', 'Rosé']"
      ],
      "metadata": {
        "id": "svF8TzyeDmfI"
      },
      "execution_count": null,
      "outputs": []
    },
    {
      "cell_type": "code",
      "source": [
        "from wordcloud import WordCloud\n",
        "\n",
        "def show_wordcloud(data, labels):\n",
        "    \"\"\"\n",
        "    This function takes a list of text data variables\n",
        "    (the data itself must also being in list form)\n",
        "    and it also takes a list of labels and returns\n",
        "    a word cloud.\n",
        "    \"\"\"\n",
        "    i = 0\n",
        "    for group in data:\n",
        "        wordcloud = WordCloud(\n",
        "            background_color='black',\n",
        "            stopwords=sw,\n",
        "            max_words=30,\n",
        "            scale=3,\n",
        "            random_state=12\n",
        "        ).generate(str(group))\n",
        "\n",
        "        fig = plt.figure(1, figsize=(6, 6))\n",
        "        plt.axis('off')\n",
        "        plt.title(labels[i])\n",
        "        plt.imshow(wordcloud)\n",
        "        plt.tight_layout(pad=0)\n",
        "        #This saves each figure individually!\n",
        "        plt.savefig(f'Images/{labels[i]}Cloud.png', transparent = True)\n",
        "        plt.show()\n",
        "        i+=1"
      ],
      "metadata": {
        "id": "uiDHYHNiDmhW"
      },
      "execution_count": null,
      "outputs": []
    },
    {
      "cell_type": "code",
      "source": [
        "#generating word clouds for each of the wine types\n",
        "show_wordcloud(texts, labels)"
      ],
      "metadata": {
        "id": "HQUsQUfdDmjU"
      },
      "execution_count": null,
      "outputs": []
    },
    {
      "cell_type": "markdown",
      "source": [
        "With some domain knowledge of the conventional descriptions of these wine types, I would say that these reviews seem to do a good job of characterizing their labels."
      ],
      "metadata": {
        "id": "uY2bIDjzE4BE"
      }
    },
    {
      "cell_type": "markdown",
      "source": [
        "## Vectorization & Standardization"
      ],
      "metadata": {
        "id": "4Y4SxpotE6XO"
      }
    },
    {
      "cell_type": "markdown",
      "source": [
        "Before I do some modeling, I will use TFIDF to vectorize my text reviews, merge the array to the DataFrame, and scale:"
      ],
      "metadata": {
        "id": "AD1YnRRhFAFw"
      }
    },
    {
      "cell_type": "code",
      "source": [
        "#vectorizing text reviews\n",
        "from sklearn.feature_extraction.text import TfidfVectorizer\n",
        "\n",
        "#setting the parameters to be able to filter for top words\n",
        "tfidfvec = TfidfVectorizer(sublinear_tf=True, max_df=.9, min_df=.05,  ngram_range=(1, 1))\n",
        "tf_idfwine = tfidfvec.fit_transform((df_model['token_reviews']))\n"
      ],
      "metadata": {
        "id": "euQ_SwbuDmlZ"
      },
      "execution_count": null,
      "outputs": []
    },
    {
      "cell_type": "code",
      "source": [
        "#using feature_names to see the top words\n",
        "df_tfidf = pd.DataFrame(tf_idfwine.toarray(), columns = tfidfvec.get_feature_names())"
      ],
      "metadata": {
        "id": "zO1LXYwmDmnV"
      },
      "execution_count": null,
      "outputs": []
    },
    {
      "cell_type": "code",
      "source": [
        "df_tfidf.head(2)"
      ],
      "metadata": {
        "id": "0EVDZKZaDmpK"
      },
      "execution_count": null,
      "outputs": []
    },
    {
      "cell_type": "code",
      "source": [
        "#dropping unnecessary columns from the df_model DataFrame\n",
        "model_data = df_model.drop(labels = ['winery', 'wine_name', 'wine_type', 'reviews', 'token_reviews'], axis = 1)\n",
        "model_data = pd.concat([model_data.reset_index(), df_tfidf], axis = 1)\n",
        "model_data.set_index('title', inplace = True)"
      ],
      "metadata": {
        "id": "qI0z3dbtDmrK"
      },
      "execution_count": null,
      "outputs": []
    },
    {
      "cell_type": "code",
      "source": [
        "model_data.columns[:3] #aside from the dummy variables and vectorized columns, these are the other ones in the model"
      ],
      "metadata": {
        "id": "6igkyXRIDms_"
      },
      "execution_count": null,
      "outputs": []
    },
    {
      "cell_type": "markdown",
      "source": [
        "Index(['average_rating', 'num_of_ratings', 'wine_price'], dtype='object')\n"
      ],
      "metadata": {
        "id": "znMUODLoFTAm"
      }
    },
    {
      "cell_type": "code",
      "source": [
        "#scaling the new matrix\n",
        "from sklearn.preprocessing import StandardScaler\n",
        "\n",
        "scaler = StandardScaler()\n",
        "\n",
        "scaler.fit(model_data)\n",
        "\n",
        "scale_model_data = pd.DataFrame(scaler.transform(model_data), columns = model_data.columns, index = model_data.index)\n"
      ],
      "metadata": {
        "colab": {
          "base_uri": "https://localhost:8080/",
          "height": 207
        },
        "id": "jORaSIcnDmvC",
        "outputId": "5060be79-7536-4d23-85c3-78a7ce90c49a"
      },
      "execution_count": 10,
      "outputs": [
        {
          "output_type": "error",
          "ename": "NameError",
          "evalue": "name 'model_data' is not defined",
          "traceback": [
            "\u001b[0;31m---------------------------------------------------------------------------\u001b[0m",
            "\u001b[0;31mNameError\u001b[0m                                 Traceback (most recent call last)",
            "\u001b[0;32m<ipython-input-10-7a7a22072324>\u001b[0m in \u001b[0;36m<cell line: 0>\u001b[0;34m()\u001b[0m\n\u001b[1;32m      4\u001b[0m \u001b[0mscaler\u001b[0m \u001b[0;34m=\u001b[0m \u001b[0mStandardScaler\u001b[0m\u001b[0;34m(\u001b[0m\u001b[0;34m)\u001b[0m\u001b[0;34m\u001b[0m\u001b[0;34m\u001b[0m\u001b[0m\n\u001b[1;32m      5\u001b[0m \u001b[0;34m\u001b[0m\u001b[0m\n\u001b[0;32m----> 6\u001b[0;31m \u001b[0mscaler\u001b[0m\u001b[0;34m.\u001b[0m\u001b[0mfit\u001b[0m\u001b[0;34m(\u001b[0m\u001b[0mmodel_data\u001b[0m\u001b[0;34m)\u001b[0m\u001b[0;34m\u001b[0m\u001b[0;34m\u001b[0m\u001b[0m\n\u001b[0m\u001b[1;32m      7\u001b[0m \u001b[0;34m\u001b[0m\u001b[0m\n\u001b[1;32m      8\u001b[0m \u001b[0mscale_model_data\u001b[0m \u001b[0;34m=\u001b[0m \u001b[0mpd\u001b[0m\u001b[0;34m.\u001b[0m\u001b[0mDataFrame\u001b[0m\u001b[0;34m(\u001b[0m\u001b[0mscaler\u001b[0m\u001b[0;34m.\u001b[0m\u001b[0mtransform\u001b[0m\u001b[0;34m(\u001b[0m\u001b[0mmodel_data\u001b[0m\u001b[0;34m)\u001b[0m\u001b[0;34m,\u001b[0m \u001b[0mcolumns\u001b[0m \u001b[0;34m=\u001b[0m \u001b[0mmodel_data\u001b[0m\u001b[0;34m.\u001b[0m\u001b[0mcolumns\u001b[0m\u001b[0;34m,\u001b[0m \u001b[0mindex\u001b[0m \u001b[0;34m=\u001b[0m \u001b[0mmodel_data\u001b[0m\u001b[0;34m.\u001b[0m\u001b[0mindex\u001b[0m\u001b[0;34m)\u001b[0m\u001b[0;34m\u001b[0m\u001b[0;34m\u001b[0m\u001b[0m\n",
            "\u001b[0;31mNameError\u001b[0m: name 'model_data' is not defined"
          ]
        }
      ]
    },
    {
      "cell_type": "markdown",
      "source": [
        "### **Modeling**"
      ],
      "metadata": {
        "id": "w2cGySG7FWc6"
      }
    },
    {
      "cell_type": "markdown",
      "source": [
        "**Classification**"
      ],
      "metadata": {
        "id": "fGoajtI1FWkA"
      }
    },
    {
      "cell_type": "markdown",
      "source": [
        "As a form of supervised learning, and a clarity check, I am going to perform some Classification algorithms on the text reviews and assess their accuracy on identifying the type of wine in the 'wine_types' column.\n",
        "\n"
      ],
      "metadata": {
        "id": "Ozfi-ZleFWoK"
      }
    },
    {
      "cell_type": "markdown",
      "source": [
        "**Random Forest**"
      ],
      "metadata": {
        "id": "_1X7wVEHFWrB"
      }
    },
    {
      "cell_type": "code",
      "source": [
        "from sklearn.model_selection import train_test_split"
      ],
      "metadata": {
        "id": "i6dPa26EFsKG"
      },
      "execution_count": null,
      "outputs": []
    },
    {
      "cell_type": "code",
      "source": [
        "X = df['reviews']\n",
        "y = df['wine_type']\n"
      ],
      "metadata": {
        "id": "OFlCFUNCFsNI"
      },
      "execution_count": null,
      "outputs": []
    },
    {
      "cell_type": "code",
      "source": [
        "#splitting the data\n",
        "X_train, X_test, y_train, y_test =  train_test_split(X, y, train_size= .8, random_state= 13)"
      ],
      "metadata": {
        "id": "L6-fwoZwFsP3"
      },
      "execution_count": null,
      "outputs": []
    },
    {
      "cell_type": "code",
      "source": [
        "#creating a RandomForest pipeline with a grid search\n",
        "from sklearn.pipeline import Pipeline\n",
        "from sklearn.feature_extraction.text import TfidfVectorizer\n",
        "from sklearn.ensemble import RandomForestClassifier\n",
        "from sklearn.model_selection import GridSearchCV\n",
        "from sklearn.metrics import make_scorer, accuracy_score\n",
        "accuracy = make_scorer(accuracy_score)\n",
        "\n",
        "pipeline = Pipeline([\n",
        "                    ('tv', TfidfVectorizer()),\n",
        "                    ('rf', RandomForestClassifier(random_state=42))\n",
        "                    ])\n",
        "\n",
        "\n",
        "rf_param_grid_pipe = {\n",
        "    \"rf__criterion\": [\"gini\", \"entropy\"],\n",
        "    \"rf__max_depth\": [None, 2, 3, 4, 5, 6, 8, 10, 12, 14, 16],\n",
        "    \"rf__max_features\": [None,4,5,6,9,10],\n",
        "    \"rf__min_samples_split\": [2, 5, 10],\n",
        "    \"rf__min_samples_leaf\" : [1, 2, 3, 5, 6],\n",
        "    \"rf__n_estimators\" : [10, 30, 100]\n",
        "}\n",
        "\n",
        "\n",
        "grid_search_pipe = GridSearchCV(pipeline, rf_param_grid_pipe, cv=3, verbose=1, n_jobs=-1, scoring = accuracy)\n",
        "\n",
        "grid_search_pipe.fit(X_train, y_train)\n"
      ],
      "metadata": {
        "id": "zIw4-TDLFslV"
      },
      "execution_count": null,
      "outputs": []
    },
    {
      "cell_type": "code",
      "source": [
        "print(grid_search_pipe.best_params_)"
      ],
      "metadata": {
        "id": "eTnXqNcUFsnr"
      },
      "execution_count": null,
      "outputs": []
    },
    {
      "cell_type": "code",
      "source": [
        "grid_search_pipe.score(X_test, y_test)"
      ],
      "metadata": {
        "id": "b13is9gcFsrv"
      },
      "execution_count": null,
      "outputs": []
    },
    {
      "cell_type": "markdown",
      "source": [
        "0.7768361581920904\n",
        "78% accuracy is not too terrible. I would be curious to see if a MultiNomial Naive Bayes model would have better accuracy performance."
      ],
      "metadata": {
        "id": "Aq-qL7w0F8ky"
      }
    },
    {
      "cell_type": "markdown",
      "source": [
        "## **MultiNomial Bayes**"
      ],
      "metadata": {
        "id": "qB4Xy8ykF_DX"
      }
    },
    {
      "cell_type": "code",
      "source": [
        "from sklearn.naive_bayes import MultinomialNB\n",
        "\n",
        "mb = Pipeline([\n",
        "                    ('tv', TfidfVectorizer()),\n",
        "                    ('mb', MultinomialNB())\n",
        "                    ])\n",
        "\n",
        "param_grid_pipe = {\n",
        "    \"mb__alpha\": [1, .5, .25, .75],\n",
        "\n",
        "}\n",
        "\n",
        "\n",
        "grid_search_pipe = GridSearchCV(mb, param_grid_pipe, cv=3, verbose=1, n_jobs=-1, scoring=accuracy)\n",
        "grid_search_pipe.fit(X_train, y_train)"
      ],
      "metadata": {
        "id": "9QWPGrHVFsui"
      },
      "execution_count": null,
      "outputs": []
    },
    {
      "cell_type": "code",
      "source": [
        "print(grid_search_pipe.best_params_)"
      ],
      "metadata": {
        "id": "1xVLwmgiGHqy"
      },
      "execution_count": null,
      "outputs": []
    },
    {
      "cell_type": "code",
      "source": [
        "grid_search_pipe.score(X_test, y_test)"
      ],
      "metadata": {
        "id": "BxvN5BJXGHyF"
      },
      "execution_count": null,
      "outputs": []
    },
    {
      "cell_type": "markdown",
      "source": [
        "0.8333333333333334\n",
        "When comparing the two algorithms, the Multinomial Bayes gave a higher accuracy score. I will now run a model with those parameters to look at the confusion matrix.\n",
        "\n"
      ],
      "metadata": {
        "id": "wC2QqCthGN-Z"
      }
    },
    {
      "cell_type": "code",
      "source": [
        "mb = Pipeline([\n",
        "                    ('tv', TfidfVectorizer()),\n",
        "                    ('mb', MultinomialNB(alpha = .25))\n",
        "                    ])\n",
        "\n",
        "mb.fit(X_train, y_train)"
      ],
      "metadata": {
        "id": "wvSh_OZ1GH0j"
      },
      "execution_count": null,
      "outputs": []
    },
    {
      "cell_type": "markdown",
      "source": [
        "Pipeline(steps=[('tv', TfidfVectorizer()), ('mb', MultinomialNB(alpha=0.25))])\n"
      ],
      "metadata": {
        "id": "Q2YTUKDcGVSu"
      }
    },
    {
      "cell_type": "code",
      "source": [
        "y_pred_mb = mb.predict(X_test)"
      ],
      "metadata": {
        "id": "aCWhJimNGYfu"
      },
      "execution_count": null,
      "outputs": []
    },
    {
      "cell_type": "code",
      "source": [
        "from sklearn.metrics import plot_confusion_matrix, classification_report\n",
        "plot_confusion_matrix(mb,y_pred_mb, y_test)\n",
        "plt.savefig('Images/Matrix.png');"
      ],
      "metadata": {
        "id": "rXVpCO3eGH2m"
      },
      "execution_count": null,
      "outputs": []
    },
    {
      "cell_type": "markdown",
      "source": [
        "The sparkling and dessert wine categories seemed to perform the worst out of all them. I believe this is due to the broadness of the categories themselves. The other categories seem to be a little more specifically defined.\n",
        "\n"
      ],
      "metadata": {
        "id": "uGPDsoRWGgGz"
      }
    },
    {
      "cell_type": "code",
      "source": [
        "from sklearn.metrics import plot_confusion_matrix, classification_report\n",
        "print(classification_report(y_test, y_pred_mb))"
      ],
      "metadata": {
        "id": "IWBBJaLeGH42"
      },
      "execution_count": null,
      "outputs": []
    },
    {
      "cell_type": "markdown",
      "source": [
        "The reviews show an 83% accuracy of identifying the types of wine. This shows that the reviews can be helpful in making recommendations."
      ],
      "metadata": {
        "id": "0v0AJZsmGk5v"
      }
    },
    {
      "cell_type": "markdown",
      "source": [
        "# **Recommender Systems**"
      ],
      "metadata": {
        "id": "vC2FjvpUGnGt"
      }
    },
    {
      "cell_type": "markdown",
      "source": [
        "By Title (Wine Full Name)"
      ],
      "metadata": {
        "id": "1vqb8OaoGqmJ"
      }
    },
    {
      "cell_type": "markdown",
      "source": [],
      "metadata": {
        "id": "d7YyivOCGss6"
      }
    },
    {
      "cell_type": "markdown",
      "source": [
        "Cosine Similarity Model"
      ],
      "metadata": {
        "id": "QQx0Nd7GGs49"
      }
    },
    {
      "cell_type": "code",
      "source": [
        "from sklearn.metrics.pairwise import cosine_similarity\n",
        "\n",
        "#calculating the cosine similarities of the model on itself.\n",
        "cos_sim = cosine_similarity(scale_model_data, scale_model_data)"
      ],
      "metadata": {
        "id": "-H88CtDGGH62"
      },
      "execution_count": null,
      "outputs": []
    },
    {
      "cell_type": "code",
      "source": [
        "# Storing indices of the data\n",
        "indices = pd.Series(df.index)\n",
        "\n",
        "def cosine_recommendations(title, cos_sim, num_recommendations):\n",
        "    \"\"\"\n",
        "    This function takes in a title from the index along\n",
        "    with the cosine similarity array, and number of recommendations.\n",
        "    It returns the top wines recommended with the highest similarity\n",
        "    scores.\n",
        "    \"\"\"\n",
        "    recommended_wines = []\n",
        "    index = indices[indices == title].index[0]\n",
        "    similarity_scores = pd.Series(cos_sim[index]).sort_values(ascending = False)\n",
        "    top_recommended_wines = list(similarity_scores.iloc[1:num_recommendations+1].index)\n",
        "    for i in top_recommended_wines:\n",
        "        recommended_wines.append(list(df_model.index)[i])\n",
        "        matches = df.loc[recommended_wines][['wine_type', 'wine_country', 'grapes', 'average_rating', 'wine_price']]\n",
        "    matches['cosine_similarity_scores'] = list(similarity_scores.iloc[1:num_recommendations+1].values)\n",
        "    return matches"
      ],
      "metadata": {
        "id": "HXWahJYSGH8s"
      },
      "execution_count": null,
      "outputs": []
    },
    {
      "cell_type": "code",
      "source": [
        "print('Cosine Similarity Model by Title \\n1000 Stories Chardonnay 2018')\n",
        "stories_cosine = cosine_recommendations(\"1000 Stories Chardonnay 2018\", cos_sim, 10)\n",
        "stories_cosine"
      ],
      "metadata": {
        "id": "u17LLEBiGH-r"
      },
      "execution_count": null,
      "outputs": []
    },
    {
      "cell_type": "markdown",
      "source": [
        "Cosine Similarity Model by Title\n",
        "1000 Stories Chardonnay 2018\n"
      ],
      "metadata": {
        "id": "3Bzd20efG3SN"
      }
    },
    {
      "cell_type": "code",
      "source": [
        "df.loc['1000 Stories Chardonnay 2018'][['wine_type', 'wine_country', 'grapes', 'average_rating', 'wine_price']]"
      ],
      "metadata": {
        "id": "U4VzLlCkHA_x"
      },
      "execution_count": null,
      "outputs": []
    },
    {
      "cell_type": "markdown",
      "source": [
        "Using Cosine Similarity as a metric, these are the top 10 wines that are similar to the '1000 Stories Chardonnay 2018' wine I have set as a parameter to the function. The majority of the other wines recommended are also US Chardonnays."
      ],
      "metadata": {
        "id": "YMTAR4k5HE42"
      }
    },
    {
      "cell_type": "markdown",
      "source": [
        "\n",
        "This time, using Euclidean Distance as a metric, these are the top 10 wines recommended for that same bottle. Again, it seems logical so far because most of these wines are US Chardonnays like the original one in the input.\n",
        "\n",
        "In order to compare the two methods together, I think I will have to check the wine_price and wine_rating variables. I am hoping this will probably give a better sense of which method yielded the best results.\n"
      ],
      "metadata": {
        "id": "xmNjN08MHJ2k"
      }
    },
    {
      "cell_type": "code",
      "source": [
        "#creating a dataframe to get a closer look at the other variables.\n",
        "comparison = pd.DataFrame({'1000 Stories Chardonnay 2018': [df.loc['1000 Stories Chardonnay 2018']['average_rating'], df.loc['1000 Stories Chardonnay 2018']['wine_price']],\n",
        "             'Cosine Model': [stories_cosine['average_rating'].mean(), stories_cosine['wine_price'].mean()],\n",
        "             'Euclidean Model': [stories_euclidean['average_rating'].mean(), stories_euclidean['wine_price'].mean()]}, index = ['Average Rating', 'Wine Price'])\n"
      ],
      "metadata": {
        "id": "kWQHyR-rHG-V"
      },
      "execution_count": null,
      "outputs": []
    },
    {
      "cell_type": "markdown",
      "source": [
        "Taking a closer look at the other two variables, rating and price, it is a close call. The Euclidean Model seems to be a little bit closer to the average rating and wine price of the Stories Chardonnay bottle. This is based on it's overall average of those columns."
      ],
      "metadata": {
        "id": "VDpf3jqTHc9V"
      }
    },
    {
      "cell_type": "markdown",
      "source": [
        "# By Winery"
      ],
      "metadata": {
        "id": "za6sFpnfHg4p"
      }
    },
    {
      "cell_type": "markdown",
      "source": [
        "Cosine Similarity\n"
      ],
      "metadata": {
        "id": "nQdjJhY0Hqk9"
      }
    },
    {
      "cell_type": "markdown",
      "source": [
        "In this dataset, there were 16 wines produced by a single winery. I would be curious to see these recommendations.\n",
        "\n"
      ],
      "metadata": {
        "id": "ex2OrLa7Hquo"
      }
    },
    {
      "cell_type": "code",
      "source": [
        "df[df['winery'] == 'Lustau'].head(2)"
      ],
      "metadata": {
        "id": "Xkcin4UyHHMr"
      },
      "execution_count": null,
      "outputs": []
    },
    {
      "cell_type": "code",
      "source": [
        "#creating a dataframe of the wines from the Lustau winery in Spain\n",
        "lustau = df[df['winery'] == 'Lustau']\n",
        "\n",
        "print('Cosine Similarity Model by Winery')\n",
        "lustau_cosine = cosine_recommendations('Lustau San Emilio Pedro Ximenez N.V.', cos_sim, 10)\n",
        "lustau_cosine"
      ],
      "metadata": {
        "id": "qnMKSNzUHHO_"
      },
      "execution_count": null,
      "outputs": []
    },
    {
      "cell_type": "markdown",
      "source": [
        "These are the top 10 wines recommended from the Lustau winery after choosing the Lustau San Emilio Pedro Ximenez N.V. as a base for recommendations.\n",
        "\n"
      ],
      "metadata": {
        "id": "IRsbXw6pH7CH"
      }
    },
    {
      "cell_type": "markdown",
      "source": [],
      "metadata": {
        "id": "PHN8P_RxH9IM"
      }
    },
    {
      "cell_type": "markdown",
      "source": [
        "**Euclidean Distance**"
      ],
      "metadata": {
        "id": "TGM4FVGBH9SZ"
      }
    },
    {
      "cell_type": "markdown",
      "source": [
        "These are the top 10 recommendations from the Lustau winery using Euclidean Distance.\n",
        "\n",
        "In comparison here, the two models have output the same exact wines, however the order of the wines differs between models. Due to the small inventory of 16 wines to choose from, it is highly likely that the algorithms would output the same products."
      ],
      "metadata": {
        "id": "msoxyt1NIF9T"
      }
    },
    {
      "cell_type": "code",
      "source": [
        "#creating a dataframe to get a closer look at the other variables.\n",
        "pd.DataFrame({'Lustau San Emilio Pedro Ximenez N.V.': [df.loc['Lustau San Emilio Pedro Ximenez N.V.']['average_rating'], df.loc['Lustau San Emilio Pedro Ximenez N.V.']['wine_price']],\n",
        "             'Cosine Model': [lustau_cosine['average_rating'].mean(), lustau_cosine['wine_price'].mean()],\n",
        "             'Euclidean Model': [lustau_euclidean['average_rating'].mean(), lustau_euclidean['wine_price'].mean()]}, index = ['Average Rating', 'Wine Price'])\n"
      ],
      "metadata": {
        "id": "ilzuvZEIHHQ1"
      },
      "execution_count": null,
      "outputs": []
    },
    {
      "cell_type": "markdown",
      "source": [],
      "metadata": {
        "id": "h8kaVPhMIN9k"
      }
    },
    {
      "cell_type": "markdown",
      "source": [
        "Taking a closer look here, the models have identical average scores due to them outputting the same wines. To evaluate this it would come down to more of an opinion. I think that for a presentation, it would be more convincing to show the best results from the By Title recommender at this point in time, I will have to revisit the By Winery recommender in the near future."
      ],
      "metadata": {
        "id": "0qhBIx5BIOJJ"
      }
    },
    {
      "cell_type": "markdown",
      "source": [],
      "metadata": {
        "id": "xjqXlAYXIlxl"
      }
    },
    {
      "cell_type": "code",
      "source": [
        "#saving the data for Streamlit app.\n",
        "df.to_csv('Streamlit/df.csv')\n",
        "scale_model_data.to_csv('Streamlit/scale_model_data.csv')"
      ],
      "metadata": {
        "id": "gNddoNGqHHTF"
      },
      "execution_count": null,
      "outputs": []
    },
    {
      "cell_type": "markdown",
      "source": [
        "Evaluation\n",
        "The results of my content based recommendation systems, created using the cosine similarity and euclidean distancing metrics, are difficult to interpret by the numbers as they are fairly similar when comparing the average price and average rating. For the By Title model, the numbers seemed to favor the Euclidean Distance model. For the By Winery model, I would say that the best results may have to be based on opinion. All variations of the models deep down are subject to opinion anyway because of the nature of a content based recommender. On that note of opinion, I had a couple of my friends, who are avid wine drinkers, test the models and they did feel that the output of the Euclidean Distance metric on all models seemed a bit more logical based on the order of their recommendations. I am assured on the recommendation system as a whole, having performed classification algorithms on the review text, and achieving the accuracy results I did."
      ],
      "metadata": {
        "id": "hqhl62IwIk35"
      }
    }
  ]
}